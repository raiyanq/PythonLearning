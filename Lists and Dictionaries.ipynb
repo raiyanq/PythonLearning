{
 "cells": [
  {
   "cell_type": "code",
   "execution_count": 1,
   "metadata": {},
   "outputs": [],
   "source": [
    "#Python lists can contain a veriety of data types in  the same list. They are very easy to declare. \n",
    "List = [\"1\", 2, \"ABC\", [1, 2]]"
   ]
  },
  {
   "cell_type": "code",
   "execution_count": 3,
   "metadata": {},
   "outputs": [
    {
     "name": "stdout",
     "output_type": "stream",
     "text": [
      "['ABC', [1, 2]]\n"
     ]
    }
   ],
   "source": [
    "#Slicing a list\n",
    "List[:2]\n",
    "print(List[2:])"
   ]
  },
  {
   "cell_type": "code",
   "execution_count": 14,
   "metadata": {},
   "outputs": [
    {
     "name": "stdout",
     "output_type": "stream",
     "text": [
      "[1, 1.5, 2, 5, 9, 12]\n",
      "[1, 1.5, 5, 12]\n",
      "Element:  1 Index:  0\n",
      "Element:  1.5 Index:  1\n",
      "Element:  5 Index:  2\n",
      "Element:  12 Index:  3\n"
     ]
    }
   ],
   "source": [
    "List2 = [1,2,1.5,12, 5, 9]\n",
    "List2.sort()\n",
    "print(List2)\n",
    "List2.remove(9)\n",
    "del List2[2]\n",
    "print(List2)\n",
    "i = 0\n",
    "for value in List2:\n",
    "    print(\"Element: \", value, \"Index: \", i )\n",
    "    i+=1"
   ]
  },
  {
   "cell_type": "code",
   "execution_count": 17,
   "metadata": {},
   "outputs": [
    {
     "name": "stdout",
     "output_type": "stream",
     "text": [
      "Value1\n"
     ]
    }
   ],
   "source": [
    "PythonDict = {'Key1':'Value1'}\n",
    "print(PythonDict['Key1'])"
   ]
  },
  {
   "cell_type": "code",
   "execution_count": 2,
   "metadata": {},
   "outputs": [
    {
     "name": "stdout",
     "output_type": "stream",
     "text": [
      "[0, 1, 8, 27, 64]\n"
     ]
    }
   ],
   "source": [
    "cubes2 = [i**3 for i in range(5)]\n",
    "print(cubes2)"
   ]
  },
  {
   "cell_type": "code",
   "execution_count": null,
   "metadata": {},
   "outputs": [],
   "source": []
  }
 ],
 "metadata": {
  "kernelspec": {
   "display_name": "Python 3",
   "language": "python",
   "name": "python3"
  },
  "language_info": {
   "codemirror_mode": {
    "name": "ipython",
    "version": 3
   },
   "file_extension": ".py",
   "mimetype": "text/x-python",
   "name": "python",
   "nbconvert_exporter": "python",
   "pygments_lexer": "ipython3",
   "version": "3.6.5"
  }
 },
 "nbformat": 4,
 "nbformat_minor": 2
}
