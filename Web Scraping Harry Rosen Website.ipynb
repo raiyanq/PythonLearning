{
 "cells": [
  {
   "cell_type": "code",
   "execution_count": 511,
   "metadata": {},
   "outputs": [],
   "source": [
    "#import appropriate libraries for web scraping and data science\n",
    "from urllib.request import urlopen as uReq\n",
    "from bs4 import BeautifulSoup as soup\n",
    "import pandas as pd\n",
    "import matplotlib.pyplot as plt"
   ]
  },
  {
   "cell_type": "code",
   "execution_count": 512,
   "metadata": {},
   "outputs": [],
   "source": [
    "my_url = 'https://www.harryrosen.com/en/clothing/c/new-clothing?pageSize=96'"
   ]
  },
  {
   "cell_type": "code",
   "execution_count": 513,
   "metadata": {},
   "outputs": [],
   "source": [
    "#Open a connection to retreive the page and close connection after\n",
    "uClient = uReq(my_url)\n",
    "page_html = uClient.read()\n",
    "uClient.close()"
   ]
  },
  {
   "cell_type": "code",
   "execution_count": 514,
   "metadata": {},
   "outputs": [
    {
     "data": {
      "text/plain": [
       "1"
      ]
     },
     "execution_count": 514,
     "metadata": {},
     "output_type": "execute_result"
    }
   ],
   "source": [
    "filename = \"products.csv\"\n",
    "f = open(filename, \"w\")\n",
    "\n",
    "headers = \"Brand,Product,Price\"\n",
    "f.write(headers)\n",
    "f.write(\"\\n\")"
   ]
  },
  {
   "cell_type": "code",
   "execution_count": null,
   "metadata": {},
   "outputs": [],
   "source": []
  },
  {
   "cell_type": "code",
   "execution_count": 515,
   "metadata": {},
   "outputs": [
    {
     "name": "stdout",
     "output_type": "stream",
     "text": [
      "Diesel,Cotton Sport Shirt,$178.00\n",
      "\n",
      "Thom Browne,Cotton Shirt,$590.00\n",
      "\n",
      "Ermenegildo Zegna,Milano Suit,$3495.00\n",
      "\n",
      "Eton,Slim Fit Dress Shirt,$290.00\n",
      "\n",
      "Paul & Shark,Printed Cotton & Wool Blend Shirt,$295.00\n",
      "\n",
      "Z Zegna,Drop 8 Turati Suit,$1698.00\n",
      "\n",
      "Eton,Slim Fit Dress Shirt,$290.00\n",
      "\n",
      "Ermenegildo Zegna,Milano Suit,$3295.00\n",
      "\n",
      "Eton,Contemporary Fit Dress Shirt,$280.00\n",
      "\n",
      "Eton,Slim Fit Dress Shirt,$280.00\n",
      "\n",
      "Ermenegildo Zegna,Torino Multi-Season Suit,$3295.00\n",
      "\n",
      "Moncler,Rodez Down Jacket,$1430.00\n",
      "\n",
      "Giorgio Armani,V-Neck T-Shirt,$375.00\n",
      "\n",
      "Ermenegildo Zegna,Couture Suit,$6185.00\n",
      "\n",
      "Ermenegildo Zegna,Milano Suit,$3295.00\n",
      "\n",
      "Brunello Cucinelli,Waterproof Down Vest,$1775.00\n",
      "\n",
      "Ermenegildo Zegna,Long-Sleeve Cotton Polo,$475.00\n",
      "\n",
      "Brunello Cucinelli,Long-Sleeve Cashmere Blend Polo,$1175.00\n",
      "\n",
      "Brunello Cucinelli,Long-Sleeve Cashmere Blend Polo,$1175.00\n",
      "\n",
      "Brunello Cucinelli,Waterproof Down Vest,$3025.00\n",
      "\n",
      "Ermenegildo Zegna,Cotton Blend Zip-Up Sweater,$875.00\n",
      "\n",
      "Brunello Cucinelli,Wool Blend Sweater,$1145.00\n",
      "\n",
      "Ermenegildo Zegna,Cotton Blend Zip-Up Sweater,$875.00\n",
      "\n",
      "Paul & Shark,Crew Neck Wool Sweater,$395.00\n",
      "\n",
      "Paul & Shark,Cashmere & Wool Blend Sweater,$495.00\n",
      "\n",
      "Giorgio Armani,V-Neck T-Shirt,$375.00\n",
      "\n",
      "Brunello Cucinelli,Waterproof Down Coat,$3895.00\n",
      "\n",
      "Z Zegna,Drop 8 Turati Suit,$1698.00\n",
      "\n",
      "Giorgio Armani,Upton Unstructured Sports Jacket,$3395.00\n",
      "\n",
      "Ermenegildo Zegna,Torino Trofeo Suit,$3495.00\n",
      "\n",
      "Ermenegildo Zegna,Milano Easy Sports Jacket,$2995.00\n",
      "\n",
      "Z Zegna,Drop 8 Turati Suit,$1598.00\n",
      "\n",
      "Z Zegna,Drop 8 Turati Suit,$1598.00\n",
      "\n",
      "Z Zegna,Drop 8 Turati Suit,$1498.00\n",
      "\n",
      "Z Zegna,Drop 8 Turati Suit,$1498.00\n",
      "\n",
      "Z Zegna,Drop 8 Turati Suit,$1598.00\n",
      "\n",
      "Z Zegna,Drop 8 Suit,$1498.00\n",
      "\n",
      "Brunello Cucinelli,Long-Sleeve Virgin Wool Blend Polo,$1175.00\n",
      "\n",
      "Brunello Cucinelli,Wool & Cashmere Bomber Jacket,$5395.00\n",
      "\n",
      "Z Zegna,Drop 8 Suit,$1498.00\n",
      "\n",
      "Brunello Cucinelli,Waterproof Down Vest,$1775.00\n",
      "\n",
      "Loro Piana,Zip-Up Cashmere Sweater,$3880.00\n",
      "\n",
      "Loro Piana,Printed Cotton Shirt,$680.00\n",
      "\n",
      "Ermenegildo Zegna,Half-Zip Cashmere & Silk Sweater,$2150.00\n",
      "\n",
      "Loro Piana,Slim Fit Pants,$780.00\n",
      "\n",
      "Thom Browne,Down-Filled Jacket,$3650.00\n",
      "\n",
      "Loro Piana,Unstructured Sports Jacket,$4330.00\n",
      "\n",
      "Loro Piana,Slim Fit Jeans,$780.00\n",
      "\n",
      "Versace Collection,Slim Fit Jeans,$395.00\n",
      "\n",
      "Loro Piana,Zip-Up Cashmere & Silk Blend Sweater,$2600.00\n",
      "\n",
      "Loro Piana,Storm System Vest,$1540.00\n",
      "\n",
      "Loro Piana,Storm System Vest,$1540.00\n",
      "\n",
      "Loro Piana,Zip-Up Cashmere & Silk Blend Sweater,$2600.00\n",
      "\n",
      "Loro Piana,Virgin Wool & Silk Blend Vest,$2880.00\n",
      "\n",
      "Brunello Cucinelli,Skinny Fit Jeans,$675.00\n",
      "\n",
      "Loro Piana,Cashmere Sweater,$2140.00\n",
      "\n",
      "Loro Piana,Slim Fit Jeans,$780.00\n",
      "\n",
      "Loro Piana,Slim Fit Jeans,$780.00\n",
      "\n",
      "Versace Collection,Drawstring Joggers,$395.00\n",
      "\n",
      "Diesel,Krooley JoggJeans,$498.00\n",
      "\n",
      "Loro Piana,Unstructured Sports Jacket,$4330.00\n",
      "\n",
      "Loro Piana,Cashmere Blend Coat,$19310.00\n",
      "\n"
     ]
    }
   ],
   "source": [
    "page_soup = soup(page_html, \"html.parser\")\n",
    "containers = page_soup.findAll(\"div\",{\"class\":\"hr-product-lister-grid-item-content-wp\"})\n",
    "\n",
    "for container in containers:\n",
    "    brand = container.h3.text\n",
    "    product_name = container.h4.text\n",
    "    price = container.findAll(\"div\", {\"class\":\"hr-product-price\"})[0].text.strip()\n",
    "    print(brand + ',' + product_name.replace(\",\", \"|\") + ',' + price.replace(\",\", \"\") + \"\\n\")\n",
    "    f.write(brand + ',' + product_name.replace(\",\", \"|\") + ',' + price.replace(\",\", \"\") + \"\\n\")"
   ]
  },
  {
   "cell_type": "code",
   "execution_count": 516,
   "metadata": {},
   "outputs": [
    {
     "data": {
      "text/plain": [
       "Brand\n",
       "Brunello Cucinelli     $675.00\n",
       "Diesel                 $498.00\n",
       "Ermenegildo Zegna      $875.00\n",
       "Eton                   $290.00\n",
       "Giorgio Armani         $375.00\n",
       "Loro Piana             $780.00\n",
       "Moncler               $1430.00\n",
       "Paul & Shark           $495.00\n",
       "Thom Browne            $590.00\n",
       "Versace Collection     $395.00\n",
       "Z Zegna               $1698.00\n",
       "Name: Price, dtype: object"
      ]
     },
     "execution_count": 516,
     "metadata": {},
     "output_type": "execute_result"
    }
   ],
   "source": [
    "df = pd.read_csv(\"products.csv\")\n",
    "df.groupby(['Brand'])['Price'].max()\n",
    "#df.groupby(['Price'].mean())"
   ]
  },
  {
   "cell_type": "code",
   "execution_count": null,
   "metadata": {},
   "outputs": [],
   "source": []
  },
  {
   "cell_type": "code",
   "execution_count": null,
   "metadata": {},
   "outputs": [],
   "source": []
  },
  {
   "cell_type": "code",
   "execution_count": null,
   "metadata": {},
   "outputs": [],
   "source": []
  }
 ],
 "metadata": {
  "kernelspec": {
   "display_name": "Python 3",
   "language": "python",
   "name": "python3"
  },
  "language_info": {
   "codemirror_mode": {
    "name": "ipython",
    "version": 3
   },
   "file_extension": ".py",
   "mimetype": "text/x-python",
   "name": "python",
   "nbconvert_exporter": "python",
   "pygments_lexer": "ipython3",
   "version": "3.6.5"
  }
 },
 "nbformat": 4,
 "nbformat_minor": 2
}
